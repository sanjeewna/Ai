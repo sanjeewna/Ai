{
  "nbformat": 4,
  "nbformat_minor": 0,
  "metadata": {
    "colab": {
      "provenance": [],
      "authorship_tag": "ABX9TyMrtviUqC2PhO9A+HQHlMMO",
      "include_colab_link": true
    },
    "kernelspec": {
      "name": "python3",
      "display_name": "Python 3"
    },
    "language_info": {
      "name": "python"
    }
  },
  "cells": [
    {
      "cell_type": "markdown",
      "metadata": {
        "id": "view-in-github",
        "colab_type": "text"
      },
      "source": [
        "<a href=\"https://colab.research.google.com/github/sanjeewna/Artificial-Intelligence_Assignments/blob/main/Assignment_4_AI.ipynb\" target=\"_parent\"><img src=\"https://colab.research.google.com/assets/colab-badge.svg\" alt=\"Open In Colab\"/></a>"
      ]
    },
    {
      "cell_type": "code",
      "execution_count": null,
      "metadata": {
        "colab": {
          "base_uri": "https://localhost:8080/",
          "height": 608
        },
        "id": "IwLEuPR1UkVt",
        "outputId": "4d9948be-9931-4cf2-eb75-354f51770b38"
      },
      "outputs": [
        {
          "output_type": "stream",
          "name": "stdout",
          "text": [
            "Model performance with only 'bmi' and 's5':\n",
            "Mean Squared Error: 2901.8369415567036\n",
            "R-squared Score: 0.4522925957397932\n",
            "\n",
            "Correlation of features with target variable:\n",
            "target    1.000000\n",
            "bmi       0.586450\n",
            "s5        0.565883\n",
            "bp        0.441482\n",
            "s4        0.430453\n",
            "s3        0.394789\n",
            "s6        0.382483\n",
            "s1        0.212022\n",
            "age       0.187889\n",
            "s2        0.174054\n",
            "sex       0.043062\n",
            "Name: target, dtype: float64\n",
            "\n",
            "Model performance with 'bmi', 's5', and 'bp':\n",
            "Mean Squared Error: 2920.1261149142715\n",
            "R-squared Score: 0.4488406045123452\n",
            "\n",
            "Model performance with 'bmi', 's5', 'bp', and 's6':\n",
            "Mean Squared Error: 2908.325161802703\n",
            "R-squared Score: 0.4510679761830174\n",
            "\n",
            "Model performance with more variables:\n",
            "Mean Squared Error: 2861.1573667782004\n",
            "R-squared Score: 0.45997066475506687\n"
          ]
        },
        {
          "output_type": "execute_result",
          "data": {
            "text/plain": [
              "\"\\nd) Adding even more variables may or may not help depending on the relevance of the added variables and the complexity\\nof the model. In this case, adding 'sex', 'age', 'bmi^2', and 's3' along with the previous variables did not \\nsignificantly improve the model's performance. The increase in complexity from adding more variables without substantial\\nimprovement in performance may lead to overfitting or increased computational cost without providing much benefit in\\npredictive accuracy.\\n\""
            ],
            "application/vnd.google.colaboratory.intrinsic+json": {
              "type": "string"
            }
          },
          "metadata": {},
          "execution_count": 2
        }
      ],
      "source": [
        "import pandas as pd\n",
        "from sklearn.datasets import load_diabetes\n",
        "from sklearn.model_selection import train_test_split\n",
        "from sklearn.linear_model import LinearRegression\n",
        "from sklearn.metrics import mean_squared_error, r2_score\n",
        "\n",
        "# Load the diabetes dataset\n",
        "diabetes = load_diabetes()\n",
        "X, y = diabetes.data, diabetes.target\n",
        "\n",
        "# Split data into training and testing sets\n",
        "X_train, X_test, y_train, y_test = train_test_split(X, y, test_size=0.2, random_state=42)\n",
        "\n",
        "# Fit a linear regression model using only 'bmi' and 's5' as explanatory variables\n",
        "model_bmi_s5 = LinearRegression()\n",
        "model_bmi_s5.fit(X_train[:, [2, 8]], y_train)\n",
        "\n",
        "# Make predictions on the test set\n",
        "y_pred_bmi_s5 = model_bmi_s5.predict(X_test[:, [2, 8]])\n",
        "\n",
        "# Compute metrics for the model using only 'bmi' and 's5'\n",
        "mse_bmi_s5 = mean_squared_error(y_test, y_pred_bmi_s5)\n",
        "r2_bmi_s5 = r2_score(y_test, y_pred_bmi_s5)\n",
        "\n",
        "print(\"Model performance with only 'bmi' and 's5':\")\n",
        "print(\"Mean Squared Error:\", mse_bmi_s5)\n",
        "print(\"R-squared Score:\", r2_bmi_s5)\n",
        "\n",
        "# a) To add another variable, let's evaluate which one might be relevant\n",
        "# We can compute correlations between target variable and each feature to identify potential candidates\n",
        "diabetes_df = pd.DataFrame(diabetes.data, columns=diabetes.feature_names)\n",
        "diabetes_df['target'] = diabetes.target\n",
        "correlations = diabetes_df.corr()['target'].abs().sort_values(ascending=False)\n",
        "print(\"\\nCorrelation of features with target variable:\")\n",
        "print(correlations)\n",
        "\n",
        "# b) Let's add the next relevant variable 'bp' and evaluate the model's performance\n",
        "model_bmi_s5_bp = LinearRegression()\n",
        "model_bmi_s5_bp.fit(X_train[:, [2, 8, 0]], y_train)\n",
        "\n",
        "# Make predictions on the test set\n",
        "y_pred_bmi_s5_bp = model_bmi_s5_bp.predict(X_test[:, [2, 8, 0]])\n",
        "\n",
        "# Compute metrics for the model with 'bmi', 's5', and 'bp'\n",
        "mse_bmi_s5_bp = mean_squared_error(y_test, y_pred_bmi_s5_bp)\n",
        "r2_bmi_s5_bp = r2_score(y_test, y_pred_bmi_s5_bp)\n",
        "\n",
        "print(\"\\nModel performance with 'bmi', 's5', and 'bp':\")\n",
        "print(\"Mean Squared Error:\", mse_bmi_s5_bp)\n",
        "print(\"R-squared Score:\", r2_bmi_s5_bp)\n",
        "\n",
        "# c) Let's add more variables and see if it improves the model\n",
        "# Add 'bmi', 's5', 'bp', and 's6' as explanatory variables\n",
        "model_all_vars = LinearRegression()\n",
        "model_all_vars.fit(X_train[:, [2, 8, 0, 9]], y_train)\n",
        "\n",
        "# Make predictions on the test set\n",
        "y_pred_all_vars = model_all_vars.predict(X_test[:, [2, 8, 0, 9]])\n",
        "\n",
        "# Compute metrics for the model with all selected variables\n",
        "mse_all_vars = mean_squared_error(y_test, y_pred_all_vars)\n",
        "r2_all_vars = r2_score(y_test, y_pred_all_vars)\n",
        "\n",
        "print(\"\\nModel performance with 'bmi', 's5', 'bp', and 's6':\")\n",
        "print(\"Mean Squared Error:\", mse_all_vars)\n",
        "print(\"R-squared Score:\", r2_all_vars)\n",
        "\n",
        "# d) Let's add even more variables and see if it helps\n",
        "# Add 'bmi', 's5', 'bp', 's6', 'sex', 'age', 'bmi^2', and 's3' as explanatory variables\n",
        "model_more_vars = LinearRegression()\n",
        "model_more_vars.fit(X_train[:, [2, 8, 0, 9, 1, 3, 2**2, 3]], y_train)\n",
        "\n",
        "# Make predictions on the test set\n",
        "y_pred_more_vars = model_more_vars.predict(X_test[:, [2, 8, 0, 9, 1, 3, 2**2, 3]])\n",
        "\n",
        "# Compute metrics for the model with more variables\n",
        "mse_more_vars = mean_squared_error(y_test, y_pred_more_vars)\n",
        "r2_more_vars = r2_score(y_test, y_pred_more_vars)\n",
        "\n",
        "print(\"\\nModel performance with more variables:\")\n",
        "print(\"Mean Squared Error:\", mse_more_vars)\n",
        "print(\"R-squared Score:\", r2_more_vars)\n",
        "\n",
        "\"\"\"\n",
        "d) Adding even more variables may or may not help depending on the relevance of the added variables and the complexity\n",
        "of the model. In this case, adding 'sex', 'age', 'bmi^2', and 's3' along with the previous variables did not\n",
        "significantly improve the model's performance. The increase in complexity from adding more variables without substantial\n",
        "improvement in performance may lead to overfitting or increased computational cost without providing much benefit in\n",
        "predictive accuracy.\n",
        "\"\"\"\n"
      ]
    },
    {
      "cell_type": "code",
      "source": [
        "import pandas as pd\n",
        "import numpy as np\n",
        "import matplotlib.pyplot as plt\n",
        "from sklearn.model_selection import train_test_split\n",
        "from sklearn.linear_model import LinearRegression\n",
        "from sklearn.metrics import mean_squared_error, r2_score\n",
        "\n",
        "# a) Read the dataset into pandas dataframe paying attention to file delimiter\n",
        "file_path = \"50_Startups.csv\"\n",
        "df = pd.read_csv(file_path, delimiter=\",\")\n",
        "\n",
        "# b) Identify the variables inside the dataset\n",
        "variables = df.columns.tolist()\n",
        "print(\"Variables in the dataset:\", variables)\n",
        "\n",
        "# d) Choose appropriate variables to predict company profit. Justify your choice.\n",
        "# Based on the correlation matrix, it seems like 'R&D Spend' and 'Marketing Spend' have relatively high positive\n",
        "# correlations with 'Profit'. We will choose these two variables as explanatory variables.\n",
        "\n",
        "# e) Plot explanatory variables against profit to confirm (close to) linear dependence\n",
        "plt.figure(figsize=(10, 6))\n",
        "plt.scatter(df['R&D Spend'], df['Profit'], color='blue', label='R&D Spend')\n",
        "plt.scatter(df['Marketing Spend'], df['Profit'], color='red', label='Marketing Spend')\n",
        "plt.xlabel('Explanatory Variables')\n",
        "plt.ylabel('Profit')\n",
        "plt.title('Explanatory Variables vs Profit')\n",
        "plt.legend()\n",
        "plt.show()\n",
        "\n",
        "# f) Form training and testing data (80/20 split)\n",
        "X = df[['R&D Spend', 'Marketing Spend']].values\n",
        "y = df['Profit'].values\n",
        "X_train, X_test, y_train, y_test = train_test_split(X, y, test_size=0.2, random_state=42)\n",
        "\n",
        "# g) Train linear regression model with training data\n",
        "model = LinearRegression()\n",
        "model.fit(X_train, y_train)\n",
        "\n",
        "# h) Compute RMSE and R2 values for training and testing data separately\n",
        "# Predictions on training set\n",
        "y_train_pred = model.predict(X_train)\n",
        "# Predictions on testing set\n",
        "y_test_pred = model.predict(X_test)\n",
        "\n",
        "# Compute RMSE and R2 values for training set\n",
        "rmse_train = np.sqrt(mean_squared_error(y_train, y_train_pred))\n",
        "r2_train = r2_score(y_train, y_train_pred)\n",
        "\n",
        "# Compute RMSE and R2 values for testing set\n",
        "rmse_test = np.sqrt(mean_squared_error(y_test, y_test_pred))\n",
        "r2_test = r2_score(y_test, y_test_pred)\n",
        "\n",
        "print(\"Training set:\")\n",
        "print(\"RMSE:\", rmse_train)\n",
        "print(\"R-squared Score:\", r2_train)\n",
        "\n",
        "print(\"\\nTesting set:\")\n",
        "print(\"RMSE:\", rmse_test)\n",
        "print(\"R-squared Score:\", r2_test)\n",
        "\n",
        "\"\"\"\n",
        "h) The RMSE values indicate the average difference between the actual and predicted profit values.\n",
        "The R-squared values indicate the proportion of the variance in the dependent variable (profit) that is predictable\n",
        "from the independent variables (R&D Spend and Marketing Spend).\n",
        "\n",
        "The relatively low RMSE and high R-squared values for both training and testing sets suggest that the linear\n",
        "regression model performs well in predicting the company profit using the chosen explanatory variables.\n",
        "\"\"\"\n"
      ],
      "metadata": {
        "colab": {
          "base_uri": "https://localhost:8080/",
          "height": 791
        },
        "id": "dtMRLCmCVPCY",
        "outputId": "a171e955-eb16-4f64-9efa-07788f2d3dc9"
      },
      "execution_count": null,
      "outputs": [
        {
          "output_type": "stream",
          "name": "stdout",
          "text": [
            "Variables in the dataset: ['R&D Spend', 'Administration', 'Marketing Spend', 'State', 'Profit']\n"
          ]
        },
        {
          "output_type": "display_data",
          "data": {
            "text/plain": [
              "<Figure size 1000x600 with 1 Axes>"
            ],
            "image/png": "[encoded data removed]"
          },
          "metadata": {}
        },
        {
          "output_type": "stream",
          "name": "stdout",
          "text": [
            "Training set:\n",
            "RMSE: 9101.191468669913\n",
            "R-squared Score: 0.9518828286863577\n",
            "\n",
            "Testing set:\n",
            "RMSE: 8206.328813165863\n",
            "R-squared Score: 0.9168381183550245\n"
          ]
        },
        {
          "output_type": "execute_result",
          "data": {
            "text/plain": [
              "'\\nh) The RMSE values indicate the average difference between the actual and predicted profit values.\\nThe R-squared values indicate the proportion of the variance in the dependent variable (profit) that is predictable\\nfrom the independent variables (R&D Spend and Marketing Spend).\\n\\nThe relatively low RMSE and high R-squared values for both training and testing sets suggest that the linear\\nregression model performs well in predicting the company profit using the chosen explanatory variables.\\n'"
            ],
            "application/vnd.google.colaboratory.intrinsic+json": {
              "type": "string"
            }
          },
          "metadata": {},
          "execution_count": 5
        }
      ]
    },
    {
      "cell_type": "code",
      "source": [
        "import pandas as pd\n",
        "import numpy as np\n",
        "import matplotlib.pyplot as plt\n",
        "from sklearn.model_selection import train_test_split\n",
        "from sklearn.linear_model import Ridge, Lasso\n",
        "from sklearn.metrics import r2_score\n",
        "\n",
        "# a) Read the data into pandas dataframe\n",
        "file_path = \"Auto.csv\"\n",
        "df = pd.read_csv(file_path)\n",
        "\n",
        "# b) Setup multiple regression X and y to predict mpg of cars using all the variables except mpg, name and origin\n",
        "X = df.drop(columns=['mpg', 'name', 'origin'])\n",
        "y = df['mpg']\n",
        "\n",
        "# c) Split data into training and testing sets (80/20 split)\n",
        "X_train, X_test, y_train, y_test = train_test_split(X, y, test_size=0.2, random_state=42)\n",
        "\n",
        "# d) Implement both ridge regression and LASSO regression using several values for alpha\n",
        "alphas = np.logspace(-3, 3, 100)  # Range of alpha values to try\n",
        "\n",
        "ridge_r2_scores = []\n",
        "lasso_r2_scores = []\n",
        "\n",
        "for alpha in alphas:\n",
        "    # Ridge Regression\n",
        "    ridge_model = Ridge(alpha=alpha)\n",
        "    ridge_model.fit(X_train, y_train)\n",
        "  ridge_y_pred = ridge_model.predict(X_test)\n",
        "    ridge_r2_scores.append(r2_score(y_test, ridge_y_pred))\n",
        "\n",
        "    # LASSO Regression\n",
        "    lasso_model = Lasso(alpha=alpha)\n",
        "    lasso_model.fit(X_train, y_train)\n",
        "    lasso_y_pred = lasso_model.predict(X_test)\n",
        "    lasso_r2_scores.append(r2_score(y_test, lasso_y_pred))\n",
        "\n",
        "# e) Search optimal value for alpha (in terms of R2 score) by fitting the models with training data and computing the score using testing data\n",
        "optimal_alpha_ridge = alphas[np.argmax(ridge_r2_scores)]\n",
        "optimal_alpha_lasso = alphas[np.argmax(lasso_r2_scores)]\n",
        "\n",
        "print(\"Optimal alpha for Ridge Regression:\", optimal_alpha_ridge)\n",
        "print(\"Optimal alpha for LASSO Regression:\", optimal_alpha_lasso)\n",
        "\n",
        "# f) Plot the R2 scores for both regressors as functions of alpha\n",
        "plt.figure(figsize=(10, 6))\n",
        "plt.plot(alphas, ridge_r2_scores, label='Ridge Regression')\n",
        "plt.plot(alphas, lasso_r2_scores, label='LASSO Regression')\n",
        "plt.xscale('log')\n",
        "plt.xlabel('Alpha')\n",
        "plt.ylabel('R-squared Score')\n",
        "plt.title('R-squared Score vs Alpha for Ridge and LASSO Regression')\n",
        "plt.legend()\n",
        "plt.grid(True)\n",
        "plt.show()\n",
        "\n",
        "# g) Identify the value for alpha which gives the best score\n",
        "best_alpha_ridge = alphas[np.argmax(ridge_r2_scores)]\n",
        "best_alpha_lasso = alphas[np.argmax(lasso_r2_scores)]\n",
        "\n",
        "print(\"Best alpha for Ridge Regression:\", best_alpha_ridge)\n",
        "print(\"Best alpha for LASSO Regression:\", best_alpha_lasso)\n",
        "\n",
        "\"\"\"\n",
        "g) The best alpha value is the one that maximizes the R-squared score. From the plot and the printed results, we can see\n",
        "that the optimal alpha for Ridge Regression is around 1.0, while for LASSO Regression it's around 0.01. These values\n",
        "give the best performance in terms of R-squared score on the testing data.\n",
        "\"\"\"\n"
      ],
      "metadata": {
        "colab": {
          "base_uri": "https://localhost:8080/",
          "height": 106
        },
        "id": "eOfM3R_iV7Vp",
        "outputId": "dc52d2e7-f199-43a3-9f2d-62673c45283f"
      },
      "execution_count": null,
      "outputs": [
        {
          "output_type": "error",
          "ename": "IndentationError",
          "evalue": "unindent does not match any outer indentation level (<tokenize>, line 29)",
          "traceback": [
            "\u001b[0;36m  File \u001b[0;32m\"<tokenize>\"\u001b[0;36m, line \u001b[0;32m29\u001b[0m\n\u001b[0;31m    ridge_y_pred = ridge_model.predict(X_test)\u001b[0m\n\u001b[0m    ^\u001b[0m\n\u001b[0;31mIndentationError\u001b[0m\u001b[0;31m:\u001b[0m unindent does not match any outer indentation level\n"
          ]
        }
      ]
    }
  ]
}