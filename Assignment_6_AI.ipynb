{
  "nbformat": 4,
  "nbformat_minor": 0,
  "metadata": {
    "colab": {
      "provenance": [],
      "authorship_tag": "ABX9TyNzFCuaSxvoXtnF9t6gAF8f",
      "include_colab_link": true
    },
    "kernelspec": {
      "name": "python3",
      "display_name": "Python 3"
    },
    "language_info": {
      "name": "python"
    }
  },
  "cells": [
    {
      "cell_type": "markdown",
      "metadata": {
        "id": "view-in-github",
        "colab_type": "text"
      },
      "source": [
        "<a href=\"https://colab.research.google.com/github/sanjeewna/Artificial-Intelligence_Assignments/blob/main/Assignment_6_AI.ipynb\" target=\"_parent\"><img src=\"https://colab.research.google.com/assets/colab-badge.svg\" alt=\"Open In Colab\"/></a>"
      ]
    },
    {
      "cell_type": "code",
      "execution_count": 1,
      "metadata": {
        "colab": {
          "base_uri": "https://localhost:8080/"
        },
        "id": "CQlBaaGNi75v",
        "outputId": "e69f1f30-7c4a-4ae8-8f01-fffad22eea70"
      },
      "outputs": [
        {
          "output_type": "stream",
          "name": "stdout",
          "text": [
            "Linear Kernel SVM Classification Report:\n",
            "              precision    recall  f1-score   support\n",
            "\n",
            "           0       1.00      0.99      0.99       154\n",
            "           1       0.98      1.00      0.99       121\n",
            "\n",
            "    accuracy                           0.99       275\n",
            "   macro avg       0.99      0.99      0.99       275\n",
            "weighted avg       0.99      0.99      0.99       275\n",
            "\n",
            "Confusion Matrix:\n",
            "[[152   2]\n",
            " [  0 121]]\n",
            "\n",
            "Radial Basis Function Kernel SVM Classification Report:\n",
            "              precision    recall  f1-score   support\n",
            "\n",
            "           0       1.00      1.00      1.00       154\n",
            "           1       1.00      1.00      1.00       121\n",
            "\n",
            "    accuracy                           1.00       275\n",
            "   macro avg       1.00      1.00      1.00       275\n",
            "weighted avg       1.00      1.00      1.00       275\n",
            "\n",
            "Confusion Matrix:\n",
            "[[154   0]\n",
            " [  0 121]]\n"
          ]
        }
      ],
      "source": [
        "import pandas as pd\n",
        "from sklearn.model_selection import train_test_split\n",
        "from sklearn.svm import SVC\n",
        "from sklearn.metrics import confusion_matrix, classification_report\n",
        "\n",
        "# Step 0: Read data into a pandas dataframe\n",
        "data = pd.read_csv('data_banknote_authentication.csv')\n",
        "\n",
        "# Step 1: Define feature variables X and target variable y\n",
        "X = data.drop('class', axis=1)\n",
        "y = data['class']\n",
        "\n",
        "# Step 2: Split the data into training and testing sets\n",
        "X_train, X_test, y_train, y_test = train_test_split(X, y, test_size=0.2, random_state=20)\n",
        "\n",
        "# Step 3: Use support vector classifier with linear kernel\n",
        "svm_linear = SVC(kernel='linear')\n",
        "svm_linear.fit(X_train, y_train)\n",
        "\n",
        "# Step 4: Predict on the testing data and compute confusion matrix and classification report\n",
        "y_pred_linear = svm_linear.predict(X_test)\n",
        "confusion_matrix_linear = confusion_matrix(y_test, y_pred_linear)\n",
        "classification_report_linear = classification_report(y_test, y_pred_linear)\n",
        "\n",
        "# Step 5: Repeat steps 3 and 4 for the radial basis function kernel\n",
        "svm_rbf = SVC(kernel='rbf')\n",
        "svm_rbf.fit(X_train, y_train)\n",
        "y_pred_rbf = svm_rbf.predict(X_test)\n",
        "confusion_matrix_rbf = confusion_matrix(y_test, y_pred_rbf)\n",
        "classification_report_rbf = classification_report(y_test, y_pred_rbf)\n",
        "\n",
        "# Step 6: Compare the two SVM models\n",
        "print(\"Linear Kernel SVM Classification Report:\")\n",
        "print(classification_report_linear)\n",
        "print(\"Confusion Matrix:\")\n",
        "print(confusion_matrix_linear)\n",
        "print(\"\\nRadial Basis Function Kernel SVM Classification Report:\")\n",
        "print(classification_report_rbf)\n",
        "print(\"Confusion Matrix:\")\n",
        "print(confusion_matrix_rbf)\n"
      ]
    },
    {
      "cell_type": "code",
      "source": [
        "import pandas as pd\n",
        "from sklearn.model_selection import train_test_split\n",
        "from sklearn.neighbors import KNeighborsRegressor\n",
        "from sklearn.metrics import r2_score\n",
        "from sklearn.preprocessing import StandardScaler, MinMaxScaler\n",
        "\n",
        "# Step 0: Read data into a pandas dataframe\n",
        "data = pd.read_csv('weight-height.csv')\n",
        "\n",
        "# Step 1: Pick the target variable y as weight in kilograms, and the feature variable X as height in centimeters\n",
        "X = data[['Height']]\n",
        "y = data['Weight']\n",
        "\n",
        "# Step 2: Split the data into training and testing sets with 80/20 ratio\n",
        "X_train, X_test, y_train, y_test = train_test_split(X, y, test_size=0.2, random_state=20)\n",
        "\n",
        "# Step 3: Scale the training and testing data using normalization and standardization\n",
        "scaler_norm = MinMaxScaler()\n",
        "X_train_norm = scaler_norm.fit_transform(X_train)\n",
        "X_test_norm = scaler_norm.transform(X_test)\n",
        "\n",
        "scaler_std = StandardScaler()\n",
        "X_train_std = scaler_std.fit_transform(X_train)\n",
        "X_test_std = scaler_std.transform(X_test)\n",
        "\n",
        "# Step 4: Fit a KNN regression model with k=5 to the training data without scaling\n",
        "knn_unscaled = KNeighborsRegressor(n_neighbors=5)\n",
        "knn_unscaled.fit(X_train, y_train)\n",
        "y_pred_unscaled = knn_unscaled.predict(X_test)\n",
        "r2_unscaled = r2_score(y_test, y_pred_unscaled)\n",
        "\n",
        "# Step 5: Repeat step 4 for normalized data\n",
        "knn_norm = KNeighborsRegressor(n_neighbors=5)\n",
        "knn_norm.fit(X_train_norm, y_train)\n",
        "y_pred_norm = knn_norm.predict(X_test_norm)\n",
        "r2_norm = r2_score(y_test, y_pred_norm)\n",
        "\n",
        "# Step 6: Repeat step 4 for standardized data\n",
        "knn_std = KNeighborsRegressor(n_neighbors=5)\n",
        "knn_std.fit(X_train_std, y_train)\n",
        "y_pred_std = knn_std.predict(X_test_std)\n",
        "r2_std = r2_score(y_test, y_pred_std)\n",
        "\n",
        "# Step 7: Compare the models in terms of their R^2 value\n",
        "print(\"R^2 value without scaling:\", r2_unscaled)\n",
        "print(\"R^2 value with normalization:\", r2_norm)\n",
        "print(\"R^2 value with standardization:\", r2_std)\n"
      ],
      "metadata": {
        "colab": {
          "base_uri": "https://localhost:8080/"
        },
        "id": "6GLuTtwpjWqd",
        "outputId": "89338bfc-4c86-4ad5-b3b6-4a0eaee50958"
      },
      "execution_count": 2,
      "outputs": [
        {
          "output_type": "stream",
          "name": "stdout",
          "text": [
            "R^2 value without scaling: 0.8327437044707436\n",
            "R^2 value with normalization: 0.8327437044707436\n",
            "R^2 value with standardization: 0.8327437044707436\n"
          ]
        }
      ]
    }
  ]
}